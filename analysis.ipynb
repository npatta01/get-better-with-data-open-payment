{
 "cells": [
  {
   "cell_type": "markdown",
   "metadata": {},
   "source": [
    "# About"
   ]
  },
  {
   "cell_type": "markdown",
   "metadata": {},
   "source": [
    "This notebook contains part of our analyis our team conducted for the Get Better With data hackathon held on November 7,2015."
   ]
  },
  {
   "cell_type": "markdown",
   "metadata": {},
   "source": [
    "## Data Source "
   ]
  },
  {
   "cell_type": "markdown",
   "metadata": {},
   "source": [
    "[CMS Open Payment](https://www.cms.gov/openpayments/)\n",
    "\n",
    "Sometimes, doctors and hospitals have financial relationships with health care manufacturing companies. These relationships can include money for research activities, gifts, speaking fees, meals, or travel. The Affordable Care Act requires CMS to collect information from applicable manufacturers and group purchasing organizations (GPOs) in order to report information about their financial relationships with physicians and hospitals. Open Payments is the federally run program that collects the information about these financial relationships and makes it available to you. View the summary data dashboard for an overview of the published data."
   ]
  },
  {
   "cell_type": "markdown",
   "metadata": {},
   "source": [
    "# imports"
   ]
  },
  {
   "cell_type": "code",
   "execution_count": 45,
   "metadata": {
    "collapsed": false
   },
   "outputs": [],
   "source": [
    "import pymysql\n",
    "import pandas.io.sql as sql\n",
    "import pandas as pd\n",
    "import numpy as np\n",
    "import seaborn as sns\n",
    "import matplotlib.pyplot as plt\n",
    "import pylab\n",
    "from IPython.display import IFrame\n",
    "\n",
    "pylab.rcParams['figure.figsize'] = (25, 10)\n",
    "%matplotlib inline"
   ]
  },
  {
   "cell_type": "code",
   "execution_count": 47,
   "metadata": {
    "collapsed": false
   },
   "outputs": [
    {
     "name": "stdout",
     "output_type": "stream",
     "text": [
      "2013\t\tavg_nature_of_payment.csv     speciality_zip_code_count.csv\r\n",
      "2014\t\tdata_top_specialities.csv     speciality_zip_code_payment.csv\r\n",
      "analysis.ipynb\tspeciality_state_payment.csv  speciality_zipcode_payment.csv\r\n"
     ]
    }
   ],
   "source": [
    "!ls"
   ]
  },
  {
   "cell_type": "code",
   "execution_count": 48,
   "metadata": {
    "collapsed": false
   },
   "outputs": [
    {
     "name": "stdout",
     "output_type": "stream",
     "text": [
      "/home/jshoun01/get_better_With_data\r\n"
     ]
    }
   ],
   "source": [
    "!pwd"
   ]
  },
  {
   "cell_type": "markdown",
   "metadata": {},
   "source": [
    "# Payment by States"
   ]
  },
  {
   "cell_type": "code",
   "execution_count": 50,
   "metadata": {
    "collapsed": true
   },
   "outputs": [],
   "source": [
    "user_name='real username'\n",
    "password='reall password'"
   ]
  },
  {
   "cell_type": "code",
   "execution_count": null,
   "metadata": {
    "collapsed": true
   },
   "outputs": [],
   "source": [
    "# first connect to the database\n",
    "cnxn = pymysql.connect(host='health-db-internet.c6clocfz5zxy.us-east-1.rds.amazonaws.com',\n",
    "                       port=3306,\n",
    "                       user=user_name,\n",
    "                       passwd=password)"
   ]
  },
  {
   "cell_type": "code",
   "execution_count": 15,
   "metadata": {
    "collapsed": false
   },
   "outputs": [
    {
     "name": "stdout",
     "output_type": "stream",
     "text": [
      "starting call to sql\n",
      "\n",
      "finished processing ask\n",
      "\n"
     ]
    }
   ],
   "source": [
    "# For example, let's figure out how much each state paid in 2014 for Allopathic care\n",
    "sql_command = \\\n",
    "'select distinct(d.Recipient_State), '\\\n",
    "    'avg(d.Total_Amount_of_Payment_USDollars) '\\\n",
    "    'from CMS_open_payments_2013.general_payment_data d '\\\n",
    "    'where d.Physician_Specialty like \\'{}\\' '\\\n",
    "        'group by d.Physician_Specialty, d.Recipient_State;'.format('%Allopathic%')\n",
    "\n",
    "# This one line does it all!\n",
    "print 'starting call to sql'\n",
    "df = sql.read_sql(sql_command, cnxn)\n",
    "print '\\nfinished processing ask\\n'\n",
    "\n",
    "# now do your favorite pandas stuff.."
   ]
  },
  {
   "cell_type": "code",
   "execution_count": 16,
   "metadata": {
    "collapsed": false
   },
   "outputs": [
    {
     "data": {
      "text/html": [
       "<div>\n",
       "<table border=\"1\" class=\"dataframe\">\n",
       "  <thead>\n",
       "    <tr style=\"text-align: right;\">\n",
       "      <th></th>\n",
       "      <th>Recipient_State</th>\n",
       "      <th>avg(d.Total_Amount_of_Payment_USDollars)</th>\n",
       "    </tr>\n",
       "  </thead>\n",
       "  <tbody>\n",
       "    <tr>\n",
       "      <th>0</th>\n",
       "      <td>AE</td>\n",
       "      <td>96.205000</td>\n",
       "    </tr>\n",
       "    <tr>\n",
       "      <th>1</th>\n",
       "      <td>AK</td>\n",
       "      <td>23.757600</td>\n",
       "    </tr>\n",
       "    <tr>\n",
       "      <th>2</th>\n",
       "      <td>AL</td>\n",
       "      <td>48.478980</td>\n",
       "    </tr>\n",
       "    <tr>\n",
       "      <th>3</th>\n",
       "      <td>AR</td>\n",
       "      <td>277.375959</td>\n",
       "    </tr>\n",
       "    <tr>\n",
       "      <th>4</th>\n",
       "      <td>AZ</td>\n",
       "      <td>131.190127</td>\n",
       "    </tr>\n",
       "  </tbody>\n",
       "</table>\n",
       "</div>"
      ],
      "text/plain": [
       "  Recipient_State  avg(d.Total_Amount_of_Payment_USDollars)\n",
       "0              AE                                 96.205000\n",
       "1              AK                                 23.757600\n",
       "2              AL                                 48.478980\n",
       "3              AR                                277.375959\n",
       "4              AZ                                131.190127"
      ]
     },
     "execution_count": 16,
     "metadata": {},
     "output_type": "execute_result"
    }
   ],
   "source": [
    "df.head()"
   ]
  },
  {
   "cell_type": "code",
   "execution_count": null,
   "metadata": {
    "collapsed": true
   },
   "outputs": [],
   "source": []
  },
  {
   "cell_type": "code",
   "execution_count": null,
   "metadata": {
    "collapsed": true
   },
   "outputs": [],
   "source": [
    "g_df"
   ]
  },
  {
   "cell_type": "markdown",
   "metadata": {},
   "source": [
    "# Top Specialities"
   ]
  },
  {
   "cell_type": "code",
   "execution_count": 17,
   "metadata": {
    "collapsed": false
   },
   "outputs": [
    {
     "name": "stdout",
     "output_type": "stream",
     "text": [
      "starting call to sql\n",
      "\n",
      "finished processing ask\n",
      "\n"
     ]
    }
   ],
   "source": [
    "sql_command =\"\"\"\n",
    "SELECT Physician_Specialty,sum(Total_Amount_of_Payment_USDollars) as payment\n",
    "FROM CMS_open_payments_2013.general_payment_data\n",
    "GROUP by Physician_Specialty\n",
    "ORDER BY payment DESC\n",
    "\n",
    "\"\"\"\n",
    "\n",
    "# This one line does it all!\n",
    "print 'starting call to sql'\n",
    "top_paid_specialities = sql.read_sql(sql_command, cnxn)\n",
    "print '\\nfinished processing ask\\n'\n"
   ]
  },
  {
   "cell_type": "code",
   "execution_count": 18,
   "metadata": {
    "collapsed": false
   },
   "outputs": [
    {
     "data": {
      "text/plain": [
       "512"
      ]
     },
     "execution_count": 18,
     "metadata": {},
     "output_type": "execute_result"
    }
   ],
   "source": [
    "len(top_paid_specialities)"
   ]
  },
  {
   "cell_type": "code",
   "execution_count": 20,
   "metadata": {
    "collapsed": false
   },
   "outputs": [
    {
     "data": {
      "text/html": [
       "<div>\n",
       "<table border=\"1\" class=\"dataframe\">\n",
       "  <thead>\n",
       "    <tr style=\"text-align: right;\">\n",
       "      <th></th>\n",
       "      <th>Physician_Specialty</th>\n",
       "      <th>payment</th>\n",
       "    </tr>\n",
       "  </thead>\n",
       "  <tbody>\n",
       "    <tr>\n",
       "      <th>0</th>\n",
       "      <td>None</td>\n",
       "      <td>2.413504e+08</td>\n",
       "    </tr>\n",
       "    <tr>\n",
       "      <th>1</th>\n",
       "      <td>Allopathic &amp; Osteopathic Physicians/ Orthopaed...</td>\n",
       "      <td>1.133461e+08</td>\n",
       "    </tr>\n",
       "    <tr>\n",
       "      <th>2</th>\n",
       "      <td>Allopathic &amp; Osteopathic Physicians/ Internal ...</td>\n",
       "      <td>4.767825e+07</td>\n",
       "    </tr>\n",
       "    <tr>\n",
       "      <th>3</th>\n",
       "      <td>Allopathic &amp; Osteopathic Physicians/ Internal ...</td>\n",
       "      <td>3.686672e+07</td>\n",
       "    </tr>\n",
       "    <tr>\n",
       "      <th>4</th>\n",
       "      <td>Allopathic &amp; Osteopathic Physicians/ Neurologi...</td>\n",
       "      <td>3.040880e+07</td>\n",
       "    </tr>\n",
       "    <tr>\n",
       "      <th>5</th>\n",
       "      <td>Other Service Providers/ Specialist</td>\n",
       "      <td>2.877599e+07</td>\n",
       "    </tr>\n",
       "  </tbody>\n",
       "</table>\n",
       "</div>"
      ],
      "text/plain": [
       "                                 Physician_Specialty       payment\n",
       "0                                               None  2.413504e+08\n",
       "1  Allopathic & Osteopathic Physicians/ Orthopaed...  1.133461e+08\n",
       "2  Allopathic & Osteopathic Physicians/ Internal ...  4.767825e+07\n",
       "3  Allopathic & Osteopathic Physicians/ Internal ...  3.686672e+07\n",
       "4  Allopathic & Osteopathic Physicians/ Neurologi...  3.040880e+07\n",
       "5                Other Service Providers/ Specialist  2.877599e+07"
      ]
     },
     "execution_count": 20,
     "metadata": {},
     "output_type": "execute_result"
    }
   ],
   "source": [
    "top_paid_specialities.head(6)"
   ]
  },
  {
   "cell_type": "markdown",
   "metadata": {},
   "source": [
    "get only the first 5 entires   \n",
    "The first entry is None "
   ]
  },
  {
   "cell_type": "code",
   "execution_count": 21,
   "metadata": {
    "collapsed": false
   },
   "outputs": [
    {
     "data": {
      "text/plain": [
       "1    Allopathic & Osteopathic Physicians/ Orthopaed...\n",
       "2    Allopathic & Osteopathic Physicians/ Internal ...\n",
       "3    Allopathic & Osteopathic Physicians/ Internal ...\n",
       "4    Allopathic & Osteopathic Physicians/ Neurologi...\n",
       "5                  Other Service Providers/ Specialist\n",
       "Name: Physician_Specialty, dtype: object"
      ]
     },
     "execution_count": 21,
     "metadata": {},
     "output_type": "execute_result"
    }
   ],
   "source": [
    "top_paid_specialities['Physician_Specialty'].loc[1:5]"
   ]
  },
  {
   "cell_type": "code",
   "execution_count": 25,
   "metadata": {
    "collapsed": true
   },
   "outputs": [],
   "source": [
    "specialities = list(top_paid_specialities['Physician_Specialty'].loc[1:5])"
   ]
  },
  {
   "cell_type": "code",
   "execution_count": 27,
   "metadata": {
    "collapsed": false
   },
   "outputs": [
    {
     "data": {
      "text/plain": [
       "('Allopathic & Osteopathic Physicians/ Orthopaedic Surgery',\n",
       " 'Allopathic & Osteopathic Physicians/ Internal Medicine',\n",
       " 'Allopathic & Osteopathic Physicians/ Internal Medicine/ Cardiovascular Disease',\n",
       " 'Allopathic & Osteopathic Physicians/ Neurological Surgery',\n",
       " 'Other Service Providers/ Specialist')"
      ]
     },
     "execution_count": 27,
     "metadata": {},
     "output_type": "execute_result"
    }
   ],
   "source": [
    "tuple(specialities)"
   ]
  },
  {
   "cell_type": "code",
   "execution_count": 30,
   "metadata": {
    "collapsed": false
   },
   "outputs": [],
   "source": [
    "sql_command ='SELECT * '\\\n",
    "'FROM CMS_open_payments_2013.general_payment_data '\\\n",
    "'WHERE Physician_Specialty in {0}'.format(tuple(specialities))"
   ]
  },
  {
   "cell_type": "code",
   "execution_count": 31,
   "metadata": {
    "collapsed": false
   },
   "outputs": [
    {
     "data": {
      "text/plain": [
       "\"SELECT * FROM CMS_open_payments_2013.general_payment_data WHERE Physician_Specialty in ('Allopathic & Osteopathic Physicians/ Orthopaedic Surgery', 'Allopathic & Osteopathic Physicians/ Internal Medicine', 'Allopathic & Osteopathic Physicians/ Internal Medicine/ Cardiovascular Disease', 'Allopathic & Osteopathic Physicians/ Neurological Surgery', 'Other Service Providers/ Specialist')\""
      ]
     },
     "execution_count": 31,
     "metadata": {},
     "output_type": "execute_result"
    }
   ],
   "source": [
    "sql_command"
   ]
  },
  {
   "cell_type": "code",
   "execution_count": 85,
   "metadata": {
    "collapsed": false
   },
   "outputs": [],
   "source": [
    "df = sql.read_sql(sql_command, cnxn)"
   ]
  },
  {
   "cell_type": "code",
   "execution_count": 86,
   "metadata": {
    "collapsed": false
   },
   "outputs": [
    {
     "data": {
      "text/html": [
       "<div>\n",
       "<table border=\"1\" class=\"dataframe\">\n",
       "  <thead>\n",
       "    <tr style=\"text-align: right;\">\n",
       "      <th></th>\n",
       "      <th>Covered_Recipient_Type</th>\n",
       "      <th>Teaching_Hospital_ID</th>\n",
       "      <th>Teaching_Hospital_Name</th>\n",
       "      <th>Physician_Profile_ID</th>\n",
       "      <th>Physician_First_Name</th>\n",
       "      <th>Physician_Middle_Name</th>\n",
       "      <th>Physician_Last_Name</th>\n",
       "      <th>Physician_Name_Suffix</th>\n",
       "      <th>Recipient_Primary_Business_Street_Address_Line1</th>\n",
       "      <th>Recipient_Primary_Business_Street_Address_Line2</th>\n",
       "      <th>...</th>\n",
       "      <th>NDC_of_Associated_Covered_Drug_or_Biological3</th>\n",
       "      <th>NDC_of_Associated_Covered_Drug_or_Biological4</th>\n",
       "      <th>NDC_of_Associated_Covered_Drug_or_Biological5</th>\n",
       "      <th>Name_of_Associated_Covered_Device_or_Medical_Supply1</th>\n",
       "      <th>Name_of_Associated_Covered_Device_or_Medical_Supply2</th>\n",
       "      <th>Name_of_Associated_Covered_Device_or_Medical_Supply3</th>\n",
       "      <th>Name_of_Associated_Covered_Device_or_Medical_Supply4</th>\n",
       "      <th>Name_of_Associated_Covered_Device_or_Medical_Supply5</th>\n",
       "      <th>Program_Year</th>\n",
       "      <th>Payment_Publication_Date</th>\n",
       "    </tr>\n",
       "  </thead>\n",
       "  <tbody>\n",
       "    <tr>\n",
       "      <th>0</th>\n",
       "      <td>Covered Recipient Physician</td>\n",
       "      <td>None</td>\n",
       "      <td>None</td>\n",
       "      <td>133635</td>\n",
       "      <td>DONALD</td>\n",
       "      <td>CHURCH</td>\n",
       "      <td>BALFOUR</td>\n",
       "      <td>III</td>\n",
       "      <td>2001 4TH AVE</td>\n",
       "      <td>None</td>\n",
       "      <td>...</td>\n",
       "      <td>None</td>\n",
       "      <td>None</td>\n",
       "      <td>None</td>\n",
       "      <td>None</td>\n",
       "      <td>None</td>\n",
       "      <td>None</td>\n",
       "      <td>None</td>\n",
       "      <td>None</td>\n",
       "      <td>2013</td>\n",
       "      <td>06/30/2015</td>\n",
       "    </tr>\n",
       "    <tr>\n",
       "      <th>1</th>\n",
       "      <td>Covered Recipient Physician</td>\n",
       "      <td>None</td>\n",
       "      <td>None</td>\n",
       "      <td>350860</td>\n",
       "      <td>AUGUSTUS</td>\n",
       "      <td>JOHN</td>\n",
       "      <td>RUSH</td>\n",
       "      <td>JR</td>\n",
       "      <td>5323 HARRY HINES BLVD</td>\n",
       "      <td>None</td>\n",
       "      <td>...</td>\n",
       "      <td>None</td>\n",
       "      <td>None</td>\n",
       "      <td>None</td>\n",
       "      <td>None</td>\n",
       "      <td>None</td>\n",
       "      <td>None</td>\n",
       "      <td>None</td>\n",
       "      <td>None</td>\n",
       "      <td>2013</td>\n",
       "      <td>06/30/2015</td>\n",
       "    </tr>\n",
       "    <tr>\n",
       "      <th>2</th>\n",
       "      <td>Covered Recipient Physician</td>\n",
       "      <td>None</td>\n",
       "      <td>None</td>\n",
       "      <td>15389</td>\n",
       "      <td>GARY</td>\n",
       "      <td>MITCHELL</td>\n",
       "      <td>OWENS</td>\n",
       "      <td>None</td>\n",
       "      <td>5 PALMER DR</td>\n",
       "      <td>None</td>\n",
       "      <td>...</td>\n",
       "      <td>None</td>\n",
       "      <td>None</td>\n",
       "      <td>None</td>\n",
       "      <td>None</td>\n",
       "      <td>None</td>\n",
       "      <td>None</td>\n",
       "      <td>None</td>\n",
       "      <td>None</td>\n",
       "      <td>2013</td>\n",
       "      <td>06/30/2015</td>\n",
       "    </tr>\n",
       "    <tr>\n",
       "      <th>3</th>\n",
       "      <td>Covered Recipient Physician</td>\n",
       "      <td>None</td>\n",
       "      <td>None</td>\n",
       "      <td>15389</td>\n",
       "      <td>GARY</td>\n",
       "      <td>MITCHELL</td>\n",
       "      <td>OWENS</td>\n",
       "      <td>None</td>\n",
       "      <td>5 PALMER DR</td>\n",
       "      <td>None</td>\n",
       "      <td>...</td>\n",
       "      <td>None</td>\n",
       "      <td>None</td>\n",
       "      <td>None</td>\n",
       "      <td>None</td>\n",
       "      <td>None</td>\n",
       "      <td>None</td>\n",
       "      <td>None</td>\n",
       "      <td>None</td>\n",
       "      <td>2013</td>\n",
       "      <td>06/30/2015</td>\n",
       "    </tr>\n",
       "    <tr>\n",
       "      <th>4</th>\n",
       "      <td>Covered Recipient Physician</td>\n",
       "      <td>None</td>\n",
       "      <td>None</td>\n",
       "      <td>353401</td>\n",
       "      <td>BARBARA</td>\n",
       "      <td>LEE</td>\n",
       "      <td>PETERLIN</td>\n",
       "      <td>II</td>\n",
       "      <td>4940 EASTERN AVE</td>\n",
       "      <td>None</td>\n",
       "      <td>...</td>\n",
       "      <td>None</td>\n",
       "      <td>None</td>\n",
       "      <td>None</td>\n",
       "      <td>None</td>\n",
       "      <td>None</td>\n",
       "      <td>None</td>\n",
       "      <td>None</td>\n",
       "      <td>None</td>\n",
       "      <td>2013</td>\n",
       "      <td>06/30/2015</td>\n",
       "    </tr>\n",
       "  </tbody>\n",
       "</table>\n",
       "<p>5 rows × 63 columns</p>\n",
       "</div>"
      ],
      "text/plain": [
       "        Covered_Recipient_Type Teaching_Hospital_ID Teaching_Hospital_Name  \\\n",
       "0  Covered Recipient Physician                 None                   None   \n",
       "1  Covered Recipient Physician                 None                   None   \n",
       "2  Covered Recipient Physician                 None                   None   \n",
       "3  Covered Recipient Physician                 None                   None   \n",
       "4  Covered Recipient Physician                 None                   None   \n",
       "\n",
       "   Physician_Profile_ID Physician_First_Name Physician_Middle_Name  \\\n",
       "0                133635               DONALD                CHURCH   \n",
       "1                350860             AUGUSTUS                  JOHN   \n",
       "2                 15389                 GARY              MITCHELL   \n",
       "3                 15389                 GARY              MITCHELL   \n",
       "4                353401              BARBARA                   LEE   \n",
       "\n",
       "  Physician_Last_Name Physician_Name_Suffix  \\\n",
       "0             BALFOUR                   III   \n",
       "1                RUSH                    JR   \n",
       "2               OWENS                  None   \n",
       "3               OWENS                  None   \n",
       "4            PETERLIN                    II   \n",
       "\n",
       "  Recipient_Primary_Business_Street_Address_Line1  \\\n",
       "0                                    2001 4TH AVE   \n",
       "1                           5323 HARRY HINES BLVD   \n",
       "2                                     5 PALMER DR   \n",
       "3                                     5 PALMER DR   \n",
       "4                                4940 EASTERN AVE   \n",
       "\n",
       "  Recipient_Primary_Business_Street_Address_Line2           ...             \\\n",
       "0                                            None           ...              \n",
       "1                                            None           ...              \n",
       "2                                            None           ...              \n",
       "3                                            None           ...              \n",
       "4                                            None           ...              \n",
       "\n",
       "  NDC_of_Associated_Covered_Drug_or_Biological3  \\\n",
       "0                                          None   \n",
       "1                                          None   \n",
       "2                                          None   \n",
       "3                                          None   \n",
       "4                                          None   \n",
       "\n",
       "  NDC_of_Associated_Covered_Drug_or_Biological4  \\\n",
       "0                                          None   \n",
       "1                                          None   \n",
       "2                                          None   \n",
       "3                                          None   \n",
       "4                                          None   \n",
       "\n",
       "  NDC_of_Associated_Covered_Drug_or_Biological5  \\\n",
       "0                                          None   \n",
       "1                                          None   \n",
       "2                                          None   \n",
       "3                                          None   \n",
       "4                                          None   \n",
       "\n",
       "  Name_of_Associated_Covered_Device_or_Medical_Supply1  \\\n",
       "0                                               None     \n",
       "1                                               None     \n",
       "2                                               None     \n",
       "3                                               None     \n",
       "4                                               None     \n",
       "\n",
       "  Name_of_Associated_Covered_Device_or_Medical_Supply2  \\\n",
       "0                                               None     \n",
       "1                                               None     \n",
       "2                                               None     \n",
       "3                                               None     \n",
       "4                                               None     \n",
       "\n",
       "  Name_of_Associated_Covered_Device_or_Medical_Supply3  \\\n",
       "0                                               None     \n",
       "1                                               None     \n",
       "2                                               None     \n",
       "3                                               None     \n",
       "4                                               None     \n",
       "\n",
       "  Name_of_Associated_Covered_Device_or_Medical_Supply4  \\\n",
       "0                                               None     \n",
       "1                                               None     \n",
       "2                                               None     \n",
       "3                                               None     \n",
       "4                                               None     \n",
       "\n",
       "  Name_of_Associated_Covered_Device_or_Medical_Supply5 Program_Year  \\\n",
       "0                                               None           2013   \n",
       "1                                               None           2013   \n",
       "2                                               None           2013   \n",
       "3                                               None           2013   \n",
       "4                                               None           2013   \n",
       "\n",
       "  Payment_Publication_Date  \n",
       "0               06/30/2015  \n",
       "1               06/30/2015  \n",
       "2               06/30/2015  \n",
       "3               06/30/2015  \n",
       "4               06/30/2015  \n",
       "\n",
       "[5 rows x 63 columns]"
      ]
     },
     "execution_count": 86,
     "metadata": {},
     "output_type": "execute_result"
    }
   ],
   "source": [
    "df.head()"
   ]
  },
  {
   "cell_type": "code",
   "execution_count": 87,
   "metadata": {
    "collapsed": false
   },
   "outputs": [
    {
     "data": {
      "text/plain": [
       "2345014"
      ]
     },
     "execution_count": 87,
     "metadata": {},
     "output_type": "execute_result"
    }
   ],
   "source": [
    "len(df)"
   ]
  },
  {
   "cell_type": "code",
   "execution_count": 75,
   "metadata": {
    "collapsed": false
   },
   "outputs": [
    {
     "data": {
      "text/plain": [
       "1021153"
      ]
     },
     "execution_count": 75,
     "metadata": {},
     "output_type": "execute_result"
    }
   ],
   "source": [
    "len(df)"
   ]
  },
  {
   "cell_type": "code",
   "execution_count": 88,
   "metadata": {
    "collapsed": true
   },
   "outputs": [],
   "source": [
    "df.to_csv('data_top_specialities.csv')"
   ]
  },
  {
   "cell_type": "code",
   "execution_count": 32,
   "metadata": {
    "collapsed": false
   },
   "outputs": [
    {
     "name": "stderr",
     "output_type": "stream",
     "text": [
      "/home/jshoun01/.virtualenvs/cv27/local/lib/python2.7/site-packages/pandas/io/parsers.py:1170: DtypeWarning: Columns (8,10,13,15,16,20,21,22,23,34,35,36,39,40,41,42,48,49,50,51,52,53,54,55,56,57,58,59,60,61) have mixed types. Specify dtype option on import or set low_memory=False.\n",
      "  data = self._reader.read(nrows)\n"
     ]
    }
   ],
   "source": [
    "top4_data = pd.read_csv('data_top_specialities.csv')"
   ]
  },
  {
   "cell_type": "markdown",
   "metadata": {},
   "source": [
    "# Analysis on top 4 specialities"
   ]
  },
  {
   "cell_type": "markdown",
   "metadata": {},
   "source": [
    "## nature of payment"
   ]
  },
  {
   "cell_type": "code",
   "execution_count": 33,
   "metadata": {
    "collapsed": false
   },
   "outputs": [
    {
     "data": {
      "text/plain": [
       "Food and Beverage                                                                                                                                     2045623\n",
       "Travel and Lodging                                                                                                                                      97983\n",
       "Education                                                                                                                                               95436\n",
       "Compensation for services other than consulting, including serving as faculty or as a speaker at a venue other than a continuing education program      55480\n",
       "Consulting Fee                                                                                                                                          31750\n",
       "Honoraria                                                                                                                                                8685\n",
       "Gift                                                                                                                                                     4177\n",
       "Royalty or License                                                                                                                                       2524\n",
       "Compensation for serving as faculty or as a speaker for a non-accredited and noncertified continuing education program                                   2166\n",
       "Entertainment                                                                                                                                             407\n",
       "Grant                                                                                                                                                     327\n",
       "Current or prospective ownership or investment interest                                                                                                   217\n",
       "Charitable Contribution                                                                                                                                   146\n",
       "Compensation for serving as faculty or as a speaker for an accredited or certified continuing education program                                            93\n",
       "dtype: int64"
      ]
     },
     "execution_count": 33,
     "metadata": {},
     "output_type": "execute_result"
    }
   ],
   "source": [
    "top4_data['Nature_of_Payment_or_Transfer_of_Value'].value_counts()"
   ]
  },
  {
   "cell_type": "markdown",
   "metadata": {},
   "source": [
    "Shorten names of the nature of payments"
   ]
  },
  {
   "cell_type": "code",
   "execution_count": 34,
   "metadata": {
    "collapsed": false
   },
   "outputs": [],
   "source": [
    "def shorter_nature_of_payment_name(name):\n",
    "    if name =='Compensation for services other than consulting, including serving as faculty or as a speaker at a venue other than a continuing education program':\n",
    "        return 'Other servcies'\n",
    "    elif name ==\"Compensation for serving as faculty or as a speaker for a non-accredited and noncertified continuing education program\":\n",
    "        return \"Non-Accredited faculty services\"\n",
    "    elif name ==\"Compensation for serving as faculty or as a speaker for an accredited or certified continuing education program\":\n",
    "        return \"Accredited faculty services\"\n",
    "    elif name ==\"Current or prospective ownership or investment interest\":\n",
    "        return \"investment\"\n",
    "    else:\n",
    "        return name"
   ]
  },
  {
   "cell_type": "code",
   "execution_count": 35,
   "metadata": {
    "collapsed": true
   },
   "outputs": [],
   "source": [
    "top4_data['payment_nature']=top4_data['Nature_of_Payment_or_Transfer_of_Value'].apply(shorter_nature_of_payment_name)"
   ]
  },
  {
   "cell_type": "markdown",
   "metadata": {},
   "source": [
    "## clean up physiscian speciality"
   ]
  },
  {
   "cell_type": "code",
   "execution_count": 153,
   "metadata": {
    "collapsed": true
   },
   "outputs": [],
   "source": [
    "top4_data['speciality']=top4_data['Physician_Specialty'].apply(lambda x : x.split(\"/\")[-1].strip())"
   ]
  },
  {
   "cell_type": "markdown",
   "metadata": {},
   "source": [
    "## Distribution ofthe the nature of payment"
   ]
  },
  {
   "cell_type": "code",
   "execution_count": 36,
   "metadata": {
    "collapsed": false
   },
   "outputs": [
    {
     "data": {
      "text/html": [
       "<div>\n",
       "<table border=\"1\" class=\"dataframe\">\n",
       "  <thead>\n",
       "    <tr style=\"text-align: right;\">\n",
       "      <th></th>\n",
       "      <th>payment_nature</th>\n",
       "      <th>mean</th>\n",
       "      <th>std</th>\n",
       "    </tr>\n",
       "  </thead>\n",
       "  <tbody>\n",
       "    <tr>\n",
       "      <th>0</th>\n",
       "      <td>Accredited faculty services</td>\n",
       "      <td>2280.540108</td>\n",
       "      <td>4747.970750</td>\n",
       "    </tr>\n",
       "    <tr>\n",
       "      <th>1</th>\n",
       "      <td>Charitable Contribution</td>\n",
       "      <td>1010.553836</td>\n",
       "      <td>6412.811519</td>\n",
       "    </tr>\n",
       "    <tr>\n",
       "      <th>2</th>\n",
       "      <td>Consulting Fee</td>\n",
       "      <td>1995.982858</td>\n",
       "      <td>5192.288188</td>\n",
       "    </tr>\n",
       "    <tr>\n",
       "      <th>3</th>\n",
       "      <td>Education</td>\n",
       "      <td>59.715401</td>\n",
       "      <td>646.368356</td>\n",
       "    </tr>\n",
       "    <tr>\n",
       "      <th>4</th>\n",
       "      <td>Entertainment</td>\n",
       "      <td>72.978428</td>\n",
       "      <td>126.731020</td>\n",
       "    </tr>\n",
       "  </tbody>\n",
       "</table>\n",
       "</div>"
      ],
      "text/plain": [
       "                payment_nature         mean          std\n",
       "0  Accredited faculty services  2280.540108  4747.970750\n",
       "1      Charitable Contribution  1010.553836  6412.811519\n",
       "2               Consulting Fee  1995.982858  5192.288188\n",
       "3                    Education    59.715401   646.368356\n",
       "4                Entertainment    72.978428   126.731020"
      ]
     },
     "execution_count": 36,
     "metadata": {},
     "output_type": "execute_result"
    }
   ],
   "source": [
    "tmp=top4_data.groupby('payment_nature')['Total_Amount_of_Payment_USDollars'].agg([np.mean,np.std])\n",
    "tmp=tmp.reset_index()\n",
    "#tmp.to_csv('avg_nature_of_payment.csv')\n",
    "tmp.head()"
   ]
  },
  {
   "cell_type": "code",
   "execution_count": 37,
   "metadata": {
    "collapsed": false
   },
   "outputs": [
    {
     "data": {
      "text/plain": [
       "<matplotlib.text.Text at 0x7fcaca434890>"
      ]
     },
     "execution_count": 37,
     "metadata": {},
     "output_type": "execute_result"
    },
    {
     "data": {
      "image/png": "[encoded data removed]",
      "text/plain": [
       "<matplotlib.figure.Figure at 0x7fcaca41bcd0>"
      ]
     },
     "metadata": {},
     "output_type": "display_data"
    }
   ],
   "source": [
    "plt.figure(figsize=(20, 6))\n",
    "g=sns.boxplot(x='payment_nature',y='Total_Amount_of_Payment_USDollars',data=top4_data)\n",
    "locs, labels = plt.xticks()\n",
    "plt.setp(labels, rotation=90)\n",
    "plt.yscale('log')\n",
    "plt.title('Payment nature')"
   ]
  },
  {
   "cell_type": "markdown",
   "metadata": {},
   "source": [
    "## Distribution of payments for the different specialities"
   ]
  },
  {
   "cell_type": "code",
   "execution_count": 155,
   "metadata": {
    "collapsed": false
   },
   "outputs": [
    {
     "data": {
      "text/plain": [
       "<matplotlib.text.Text at 0x7f7107b9d690>"
      ]
     },
     "execution_count": 155,
     "metadata": {},
     "output_type": "execute_result"
    },
    {
     "data": {
      "image/png": "[encoded data removed]",
      "text/plain": [
       "<matplotlib.figure.Figure at 0x7f7107c8ced0>"
      ]
     },
     "metadata": {},
     "output_type": "display_data"
    }
   ],
   "source": [
    "plt.figure(figsize=(20,6))\n",
    "g=sns.boxplot(x='speciality',y='Total_Amount_of_Payment_USDollars',data=top4_data)\n",
    "locs, labels = plt.xticks()\n",
    "#labels=['a','b','c','d']\n",
    "#plt.setp(labels, rotation=90)\n",
    "plt.yscale('log')\n",
    "plt.title('Payment nature')\n",
    "#plt.xlabel(['a','b','c','d'])"
   ]
  },
  {
   "cell_type": "markdown",
   "metadata": {},
   "source": [
    "## Distribution of payments for the different specialities (speciality first)"
   ]
  },
  {
   "cell_type": "markdown",
   "metadata": {},
   "source": [
    "group by physiain first"
   ]
  },
  {
   "cell_type": "code",
   "execution_count": 38,
   "metadata": {
    "collapsed": false
   },
   "outputs": [
    {
     "data": {
      "text/html": [
       "<div>\n",
       "<table border=\"1\" class=\"dataframe\">\n",
       "  <thead>\n",
       "    <tr style=\"text-align: right;\">\n",
       "      <th></th>\n",
       "      <th>Physician_Specialty</th>\n",
       "      <th>Physician_Profile_ID</th>\n",
       "      <th>mean</th>\n",
       "      <th>median</th>\n",
       "      <th>std</th>\n",
       "    </tr>\n",
       "  </thead>\n",
       "  <tbody>\n",
       "    <tr>\n",
       "      <th>0</th>\n",
       "      <td>Allopathic &amp; Osteopathic Physicians/ Family Me...</td>\n",
       "      <td>7</td>\n",
       "      <td>13.907568</td>\n",
       "      <td>11.89</td>\n",
       "      <td>13.582069</td>\n",
       "    </tr>\n",
       "    <tr>\n",
       "      <th>1</th>\n",
       "      <td>Allopathic &amp; Osteopathic Physicians/ Family Me...</td>\n",
       "      <td>9</td>\n",
       "      <td>34.435000</td>\n",
       "      <td>16.88</td>\n",
       "      <td>38.259481</td>\n",
       "    </tr>\n",
       "    <tr>\n",
       "      <th>2</th>\n",
       "      <td>Allopathic &amp; Osteopathic Physicians/ Family Me...</td>\n",
       "      <td>10</td>\n",
       "      <td>124.000000</td>\n",
       "      <td>124.00</td>\n",
       "      <td>NaN</td>\n",
       "    </tr>\n",
       "    <tr>\n",
       "      <th>3</th>\n",
       "      <td>Allopathic &amp; Osteopathic Physicians/ Family Me...</td>\n",
       "      <td>13</td>\n",
       "      <td>16.929474</td>\n",
       "      <td>16.52</td>\n",
       "      <td>3.526603</td>\n",
       "    </tr>\n",
       "    <tr>\n",
       "      <th>4</th>\n",
       "      <td>Allopathic &amp; Osteopathic Physicians/ Family Me...</td>\n",
       "      <td>31</td>\n",
       "      <td>17.674186</td>\n",
       "      <td>13.19</td>\n",
       "      <td>25.892639</td>\n",
       "    </tr>\n",
       "  </tbody>\n",
       "</table>\n",
       "</div>"
      ],
      "text/plain": [
       "                                 Physician_Specialty  Physician_Profile_ID  \\\n",
       "0  Allopathic & Osteopathic Physicians/ Family Me...                     7   \n",
       "1  Allopathic & Osteopathic Physicians/ Family Me...                     9   \n",
       "2  Allopathic & Osteopathic Physicians/ Family Me...                    10   \n",
       "3  Allopathic & Osteopathic Physicians/ Family Me...                    13   \n",
       "4  Allopathic & Osteopathic Physicians/ Family Me...                    31   \n",
       "\n",
       "         mean  median        std  \n",
       "0   13.907568   11.89  13.582069  \n",
       "1   34.435000   16.88  38.259481  \n",
       "2  124.000000  124.00        NaN  \n",
       "3   16.929474   16.52   3.526603  \n",
       "4   17.674186   13.19  25.892639  "
      ]
     },
     "execution_count": 38,
     "metadata": {},
     "output_type": "execute_result"
    }
   ],
   "source": [
    "tmp=top4_data.groupby(['Physician_Specialty','Physician_Profile_ID'])['Total_Amount_of_Payment_USDollars'].agg([np.mean,np.median,np.std])\n",
    "tmp=tmp.reset_index()\n",
    "#tmp.to_csv('avg_nature_of_payment.csv')\n",
    "tmp.head()"
   ]
  },
  {
   "cell_type": "code",
   "execution_count": 39,
   "metadata": {
    "collapsed": false
   },
   "outputs": [
    {
     "data": {
      "text/plain": [
       "<matplotlib.text.Text at 0x7fcadb81dbd0>"
      ]
     },
     "execution_count": 39,
     "metadata": {},
     "output_type": "execute_result"
    },
    {
     "data": {
      "image/png": "[encoded data removed]",
      "text/plain": [
       "<matplotlib.figure.Figure at 0x7fcadb810310>"
      ]
     },
     "metadata": {},
     "output_type": "display_data"
    }
   ],
   "source": [
    "plt.figure(figsize=(20,6))\n",
    "g=sns.boxplot(x='Physician_Specialty',y='median',data=tmp)\n",
    "locs, labels = plt.xticks()\n",
    "plt.setp(labels, rotation=45)\n",
    "plt.yscale('log')\n",
    "plt.title('Payment nature with respect to physician')"
   ]
  },
  {
   "cell_type": "code",
   "execution_count": null,
   "metadata": {
    "collapsed": true
   },
   "outputs": [],
   "source": []
  },
  {
   "cell_type": "markdown",
   "metadata": {},
   "source": [
    "# Top physicians"
   ]
  },
  {
   "cell_type": "code",
   "execution_count": 40,
   "metadata": {
    "collapsed": false
   },
   "outputs": [
    {
     "data": {
      "text/html": [
       "<div>\n",
       "<table border=\"1\" class=\"dataframe\">\n",
       "  <thead>\n",
       "    <tr style=\"text-align: right;\">\n",
       "      <th></th>\n",
       "      <th>Physician_Profile_ID</th>\n",
       "      <th>sum</th>\n",
       "      <th>ratio</th>\n",
       "    </tr>\n",
       "  </thead>\n",
       "  <tbody>\n",
       "    <tr>\n",
       "      <th>0</th>\n",
       "      <td>4</td>\n",
       "      <td>170.12</td>\n",
       "      <td>4.513084e-07</td>\n",
       "    </tr>\n",
       "    <tr>\n",
       "      <th>1</th>\n",
       "      <td>6</td>\n",
       "      <td>35.77</td>\n",
       "      <td>9.489362e-08</td>\n",
       "    </tr>\n",
       "    <tr>\n",
       "      <th>2</th>\n",
       "      <td>7</td>\n",
       "      <td>514.58</td>\n",
       "      <td>1.365120e-06</td>\n",
       "    </tr>\n",
       "    <tr>\n",
       "      <th>3</th>\n",
       "      <td>9</td>\n",
       "      <td>137.74</td>\n",
       "      <td>3.654081e-07</td>\n",
       "    </tr>\n",
       "    <tr>\n",
       "      <th>4</th>\n",
       "      <td>10</td>\n",
       "      <td>124.00</td>\n",
       "      <td>3.289575e-07</td>\n",
       "    </tr>\n",
       "  </tbody>\n",
       "</table>\n",
       "</div>"
      ],
      "text/plain": [
       "   Physician_Profile_ID     sum         ratio\n",
       "0                     4  170.12  4.513084e-07\n",
       "1                     6   35.77  9.489362e-08\n",
       "2                     7  514.58  1.365120e-06\n",
       "3                     9  137.74  3.654081e-07\n",
       "4                    10  124.00  3.289575e-07"
      ]
     },
     "execution_count": 40,
     "metadata": {},
     "output_type": "execute_result"
    }
   ],
   "source": [
    "tmp=top4_data.groupby(['Physician_Profile_ID'])['Total_Amount_of_Payment_USDollars'].agg([sum])\n",
    "tmp=tmp.reset_index()\n",
    "#tmp.to_csv('avg_nature_of_payment.csv')\n",
    "total_payment=sum(tmp['sum'])\n",
    "tmp['ratio']=tmp['sum']/float(total_payment)\n",
    "tmp.head()"
   ]
  },
  {
   "cell_type": "markdown",
   "metadata": {},
   "source": [
    "# geocoding"
   ]
  },
  {
   "cell_type": "markdown",
   "metadata": {},
   "source": [
    "prepare data for carto db     \n",
    "Get data aggregated by zipcode "
   ]
  },
  {
   "cell_type": "code",
   "execution_count": 198,
   "metadata": {
    "collapsed": true
   },
   "outputs": [],
   "source": [
    "def format_zip_code(x):\n",
    "    x=str(x)\n",
    "    x=x.split(\"-\")[0]\n",
    "    \n",
    "    return x"
   ]
  },
  {
   "cell_type": "code",
   "execution_count": 199,
   "metadata": {
    "collapsed": false
   },
   "outputs": [],
   "source": [
    "top4_data['f_zip_code']= top4_data['Recipient_Zip_Code'].apply(format_zip_code)"
   ]
  },
  {
   "cell_type": "code",
   "execution_count": 200,
   "metadata": {
    "collapsed": false
   },
   "outputs": [
    {
     "data": {
      "text/plain": [
       "0    92101\n",
       "1    19342\n",
       "2    19342\n",
       "3    19104\n",
       "4    64111\n",
       "Name: f_zip_code, dtype: object"
      ]
     },
     "execution_count": 200,
     "metadata": {},
     "output_type": "execute_result"
    }
   ],
   "source": [
    "top4_data['f_zip_code'].head()"
   ]
  },
  {
   "cell_type": "code",
   "execution_count": 205,
   "metadata": {
    "collapsed": false
   },
   "outputs": [],
   "source": [
    "\n",
    "tmp=top4_data.groupby(['speciality','f_zip_code'])['Total_Amount_of_Payment_USDollars'].agg([len])\n",
    "tmp=tmp.reset_index()\n",
    "tmp.rename(columns={'len':'count'},inplace=True)"
   ]
  },
  {
   "cell_type": "code",
   "execution_count": 206,
   "metadata": {
    "collapsed": false
   },
   "outputs": [
    {
     "data": {
      "text/html": [
       "<div>\n",
       "<table border=\"1\" class=\"dataframe\">\n",
       "  <thead>\n",
       "    <tr style=\"text-align: right;\">\n",
       "      <th></th>\n",
       "      <th>speciality</th>\n",
       "      <th>f_zip_code</th>\n",
       "      <th>count</th>\n",
       "    </tr>\n",
       "  </thead>\n",
       "  <tbody>\n",
       "    <tr>\n",
       "      <th>0</th>\n",
       "      <td>Cardiovascular Disease</td>\n",
       "      <td>00018</td>\n",
       "      <td>5</td>\n",
       "    </tr>\n",
       "    <tr>\n",
       "      <th>1</th>\n",
       "      <td>Cardiovascular Disease</td>\n",
       "      <td>00601</td>\n",
       "      <td>2</td>\n",
       "    </tr>\n",
       "    <tr>\n",
       "      <th>2</th>\n",
       "      <td>Cardiovascular Disease</td>\n",
       "      <td>00603</td>\n",
       "      <td>16</td>\n",
       "    </tr>\n",
       "    <tr>\n",
       "      <th>3</th>\n",
       "      <td>Cardiovascular Disease</td>\n",
       "      <td>00610</td>\n",
       "      <td>1</td>\n",
       "    </tr>\n",
       "    <tr>\n",
       "      <th>4</th>\n",
       "      <td>Cardiovascular Disease</td>\n",
       "      <td>00612</td>\n",
       "      <td>48</td>\n",
       "    </tr>\n",
       "  </tbody>\n",
       "</table>\n",
       "</div>"
      ],
      "text/plain": [
       "               speciality f_zip_code  count\n",
       "0  Cardiovascular Disease      00018      5\n",
       "1  Cardiovascular Disease      00601      2\n",
       "2  Cardiovascular Disease      00603     16\n",
       "3  Cardiovascular Disease      00610      1\n",
       "4  Cardiovascular Disease      00612     48"
      ]
     },
     "execution_count": 206,
     "metadata": {},
     "output_type": "execute_result"
    }
   ],
   "source": [
    "tmp.head()"
   ]
  },
  {
   "cell_type": "code",
   "execution_count": 171,
   "metadata": {
    "collapsed": false
   },
   "outputs": [
    {
     "data": {
      "text/plain": [
       "216"
      ]
     },
     "execution_count": 171,
     "metadata": {},
     "output_type": "execute_result"
    }
   ],
   "source": [
    "len(tmp)"
   ]
  },
  {
   "cell_type": "code",
   "execution_count": 207,
   "metadata": {
    "collapsed": true
   },
   "outputs": [],
   "source": [
    "tmp.to_csv('speciality_zip_code_count.csv')"
   ]
  },
  {
   "cell_type": "code",
   "execution_count": 175,
   "metadata": {
    "collapsed": false
   },
   "outputs": [
    {
     "data": {
      "text/plain": [
       "56"
      ]
     },
     "execution_count": 175,
     "metadata": {},
     "output_type": "execute_result"
    }
   ],
   "source": [
    "len(tmp['Recipient_State'].value_counts())"
   ]
  },
  {
   "cell_type": "code",
   "execution_count": 204,
   "metadata": {
    "collapsed": false
   },
   "outputs": [
    {
     "data": {
      "text/plain": [
       "Internal Medicine         13130\n",
       "Cardiovascular Disease     6595\n",
       "Orthopaedic Surgery        4756\n",
       "Neurological Surgery       2262\n",
       "dtype: int64"
      ]
     },
     "execution_count": 204,
     "metadata": {},
     "output_type": "execute_result"
    }
   ],
   "source": [
    "tmp['speciality'].value_counts()"
   ]
  },
  {
   "cell_type": "code",
   "execution_count": 46,
   "metadata": {
    "collapsed": false
   },
   "outputs": [
    {
     "data": {
      "text/html": [
       "\n",
       "        <iframe\n",
       "            width=\"700\"\n",
       "            height=\"350\"\n",
       "            src=\"https://npatta01.cartodb.com/viz/23a5adc8-85a9-11e5-94e6-0ea31932ec1d/embed_map\"\n",
       "            frameborder=\"0\"\n",
       "            allowfullscreen\n",
       "        ></iframe>\n",
       "        "
      ],
      "text/plain": [
       "<IPython.lib.display.IFrame at 0x7fcaca40ec90>"
      ]
     },
     "execution_count": 46,
     "metadata": {},
     "output_type": "execute_result"
    }
   ],
   "source": [
    "IFrame('https://npatta01.cartodb.com/viz/23a5adc8-85a9-11e5-94e6-0ea31932ec1d/embed_map', width=700, height=350)"
   ]
  },
  {
   "cell_type": "code",
   "execution_count": null,
   "metadata": {
    "collapsed": true
   },
   "outputs": [],
   "source": []
  }
 ],
 "metadata": {
  "kernelspec": {
   "display_name": "Python 2",
   "language": "python",
   "name": "python2"
  },
  "language_info": {
   "codemirror_mode": {
    "name": "ipython",
    "version": 2
   },
   "file_extension": ".py",
   "mimetype": "text/x-python",
   "name": "python",
   "nbconvert_exporter": "python",
   "pygments_lexer": "ipython2",
   "version": "2.7.6"
  }
 },
 "nbformat": 4,
 "nbformat_minor": 0
}
